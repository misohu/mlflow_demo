{
 "cells": [
  {
   "cell_type": "code",
   "execution_count": 1,
   "id": "cba70707-981e-4a1a-99e5-3afaa1d4756b",
   "metadata": {},
   "outputs": [],
   "source": [
    "import pandas as pd\n",
    "import numpy as np\n",
    "import mlflow\n",
    "import os\n",
    "\n",
    "from sklearn.model_selection import train_test_split\n",
    "from sklearn.ensemble import RandomForestRegressor"
   ]
  },
  {
   "cell_type": "code",
   "execution_count": 2,
   "id": "37fcb89d-9064-4f89-ab23-718c7c6374d3",
   "metadata": {
    "tags": []
   },
   "outputs": [],
   "source": [
    "features = pd.read_csv('temps.csv')\n",
    "features = pd.get_dummies(features)\n",
    "\n",
    "labels = np.array(features['actual'])\n",
    "features= features.drop('actual', axis = 1)\n",
    "\n",
    "feature_list = list(features.columns)\n",
    "features = np.array(features)\n",
    "\n",
    "train_features, test_features, train_labels, test_labels = \\\n",
    "    train_test_split(features, labels, test_size = 0.25, random_state = 42)"
   ]
  },
  {
   "cell_type": "code",
   "execution_count": 3,
   "id": "a9719add-45b0-4c72-b7ad-0439bfeaa803",
   "metadata": {},
   "outputs": [
    {
     "name": "stderr",
     "output_type": "stream",
     "text": [
      "2022/04/07 13:12:10 INFO mlflow.tracking.fluent: Experiment with name 'Temperature model' does not exist. Creating a new experiment.\n"
     ]
    }
   ],
   "source": [
    "mlflow.set_tracking_uri(\"http://localhost:5000\")\n",
    "mlflow.set_experiment(\"Temperature model\")\n",
    "\n",
    "n_estimators = 10000\n",
    "min_samples_split = 2\n",
    "\n",
    "with mlflow.start_run():\n",
    "    rf = RandomForestRegressor(n_estimators= n_estimators,\n",
    "                               min_samples_split = min_samples_split)\n",
    "    rf.fit(train_features, train_labels)\n",
    "    preds = rf.predict(test_features)\n",
    "\n",
    "    errors = abs(preds - test_labels)\n",
    "    mae = np.mean(errors)\n",
    "    mape = 100 * (errors / test_labels)\n",
    "    accuracy = 100 - np.mean(mape)\n",
    "    mlflow.log_param('n_estimators', n_estimators)\n",
    "    mlflow.log_param('min_samples_split', min_samples_split)\n",
    "    \n",
    "    mlflow.log_metric('mae', mae)\n",
    "    mlflow.log_metric('accuracy', accuracy)\n",
    "    \n",
    "    mlflow.sklearn.log_model(rf, 'model')\n"
   ]
  },
  {
   "cell_type": "code",
   "execution_count": null,
   "id": "df964e0c-c797-42f0-9e47-b560fe5fa4a1",
   "metadata": {},
   "outputs": [],
   "source": []
  }
 ],
 "metadata": {
  "kernelspec": {
   "display_name": "Python 3 (ipykernel)",
   "language": "python",
   "name": "python3"
  },
  "language_info": {
   "codemirror_mode": {
    "name": "ipython",
    "version": 3
   },
   "file_extension": ".py",
   "mimetype": "text/x-python",
   "name": "python",
   "nbconvert_exporter": "python",
   "pygments_lexer": "ipython3",
   "version": "3.8.6"
  }
 },
 "nbformat": 4,
 "nbformat_minor": 5
}
